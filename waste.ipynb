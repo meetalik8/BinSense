{
 "cells": [
  {
   "cell_type": "code",
   "execution_count": 1,
   "id": "13c56a01",
   "metadata": {},
   "outputs": [],
   "source": [
    "import tensorflow as tf\n",
    "from tensorflow import keras\n",
    "from tensorflow.keras.preprocessing.image import ImageDataGenerator\n",
    "from tensorflow.keras.callbacks import ReduceLROnPlateau\n",
    "from tensorflow.keras.models import Sequential\n",
    "from tensorflow.keras.layers import Conv2D, MaxPool2D, BatchNormalization, Dense, Dropout, Flatten\n",
    "from tensorflow.keras import regularizers"
   ]
  },
  {
   "cell_type": "code",
   "execution_count": 2,
   "id": "92654b42",
   "metadata": {},
   "outputs": [],
   "source": [
    "from keras.layers import Conv2D, MaxPooling2D, Flatten, Dense, Dropout, BatchNormalization, Activation\n",
    "from keras.callbacks import LearningRateScheduler, EarlyStopping\n",
    "from sklearn.utils.class_weight import compute_class_weight\n",
    "import numpy as np"
   ]
  },
  {
   "cell_type": "code",
   "execution_count": 27,
   "id": "7df9dd77",
   "metadata": {},
   "outputs": [],
   "source": [
    "train_directory=r\"D:\\waste_archive\\garbage_classification\\train\"\n",
    "validation_directory=r\"D:\\waste_archive\\garbage_classification\\test\""
   ]
  },
  {
   "cell_type": "code",
   "execution_count": 28,
   "id": "41eac2d3",
   "metadata": {},
   "outputs": [],
   "source": [
    "train_datagen = ImageDataGenerator(\n",
    "    rescale=1.0 / 255,  # Normalize pixel values to [0, 1]\n",
    "    rotation_range=15  # Random rotation 180,15\n",
    "    #width_shihttps://colab.research.google.com/drive/1mqChz1NqFPFeWYCIPJDfWsvJHdyP37dj?authuser=3#scrollTo=KFOIhgnCzIZdft_range=0.2  # Random horizontal shift\n",
    "    #height_shift_range=0.2  # Random vertical shift\n",
    "    #shear_range=0.2,  # Shearing dont do\n",
    "    #zoom_range=0.2  # Zooming\n",
    "    #horizontal_flip=True  # Random horizontal flip\n",
    "    #fill_mode=\"nearest\"  # Filling in newly created pixels\n",
    ")"
   ]
  },
  {
   "cell_type": "code",
   "execution_count": null,
   "id": "c65d19c2",
   "metadata": {},
   "outputs": [],
   "source": []
  },
  {
   "cell_type": "code",
   "execution_count": 29,
   "id": "0adf27a0",
   "metadata": {},
   "outputs": [],
   "source": [
    "validation_datagen = ImageDataGenerator(rescale=1.0 / 255)"
   ]
  },
  {
   "cell_type": "code",
   "execution_count": 30,
   "id": "17b14e3e",
   "metadata": {},
   "outputs": [
    {
     "name": "stdout",
     "output_type": "stream",
     "text": [
      "Found 12409 images belonging to 12 classes.\n"
     ]
    }
   ],
   "source": [
    "train_generator = train_datagen.flow_from_directory(\n",
    "    train_directory,\n",
    "    target_size=(64, 64),  # Update with your desired image size\n",
    "    batch_size=26,\n",
    "    class_mode=\"categorical\" # Use \"categorical\" for multiclass classification\n",
    ")"
   ]
  },
  {
   "cell_type": "code",
   "execution_count": 31,
   "id": "9a70db2c",
   "metadata": {},
   "outputs": [
    {
     "name": "stdout",
     "output_type": "stream",
     "text": [
      "Found 3106 images belonging to 12 classes.\n"
     ]
    }
   ],
   "source": [
    "validation_generator = validation_datagen.flow_from_directory(\n",
    "    validation_directory,\n",
    "    target_size=(64, 64),\n",
    "    batch_size=26,\n",
    "    class_mode=\"categorical\"\n",
    ")\n"
   ]
  },
  {
   "cell_type": "code",
   "execution_count": 81,
   "id": "a883bd7f",
   "metadata": {},
   "outputs": [],
   "source": [
    "model = Sequential()\n",
    "\n",
    "\n",
    "model.add(BatchNormalization(input_shape=(64, 64, 3)))\n",
    "model.add(Conv2D(32, (3, 3), activation='relu', kernel_initializer='he_normal', padding='same'))\n",
    "model.add(MaxPooling2D((2, 2)))\n",
    "model.add(Dropout(0.2))\n",
    "\n",
    "model.add(BatchNormalization())\n",
    "model.add(Conv2D(64, (3, 3), activation='relu', kernel_initializer='he_normal', padding='same'))\n",
    "model.add(MaxPooling2D((2, 2)))\n",
    "model.add(Dropout(0.3))\n",
    "\n",
    "model.add(BatchNormalization())\n",
    "model.add(Conv2D(128, (3, 3), activation='relu', kernel_initializer='he_normal', padding='same'))\n",
    "model.add(MaxPooling2D((2, 2)))\n",
    "model.add(Dropout(0.4))\n",
    "\n",
    "\n",
    "model.add(Flatten())\n",
    "model.add(Dense(128, activation='relu', kernel_initializer='he_normal'))\n",
    "model.add(BatchNormalization())\n",
    "model.add(Dropout(0.5))\n",
    "\n",
    "\n",
    "model.add(Dense(12, activation='sigmoid'))\n",
    "\n",
    "\n",
    "model.compile(optimizer='adam', loss='binary_crossentropy', metrics=['accuracy'])"
   ]
  },
  {
   "cell_type": "code",
   "execution_count": 82,
   "id": "382a7a83",
   "metadata": {},
   "outputs": [
    {
     "name": "stdout",
     "output_type": "stream",
     "text": [
      "Epoch 1/5\n",
      "478/478 [==============================] - 351s 728ms/step - loss: 0.3298 - accuracy: 0.4676 - val_loss: 0.1626 - val_accuracy: 0.5911\n",
      "Epoch 2/5\n",
      "478/478 [==============================] - 175s 366ms/step - loss: 0.1650 - accuracy: 0.6167 - val_loss: 0.1475 - val_accuracy: 0.6590\n",
      "Epoch 3/5\n",
      "478/478 [==============================] - 134s 280ms/step - loss: 0.1508 - accuracy: 0.6521 - val_loss: 0.1370 - val_accuracy: 0.6629\n",
      "Epoch 4/5\n",
      "478/478 [==============================] - 125s 261ms/step - loss: 0.1409 - accuracy: 0.6810 - val_loss: 0.1305 - val_accuracy: 0.6835\n",
      "Epoch 5/5\n",
      "478/478 [==============================] - 127s 266ms/step - loss: 0.1329 - accuracy: 0.7069 - val_loss: 0.1167 - val_accuracy: 0.7283\n"
     ]
    }
   ],
   "source": [
    "history = model.fit(\n",
    "    train_generator,\n",
    "    epochs=5,\n",
    "    validation_data=validation_generator\n",
    ")\n"
   ]
  },
  {
   "cell_type": "code",
   "execution_count": 83,
   "id": "dbd372b3",
   "metadata": {},
   "outputs": [
    {
     "name": "stderr",
     "output_type": "stream",
     "text": [
      "C:\\Users\\Nidhi\\AppData\\Local\\Temp\\ipykernel_32640\\1548223628.py:2: UserWarning: `Model.predict_generator` is deprecated and will be removed in a future version. Please use `Model.predict`, which supports generators.\n",
      "  y_pred = model.predict_generator(validation_generator)\n"
     ]
    }
   ],
   "source": [
    "# Make predictions on the test set\n",
    "y_pred = model.predict_generator(validation_generator)\n",
    "\n",
    "# Obtain true labels from the validation generator\n",
    "y_true_classes = validation_generator.classes\n",
    "\n",
    "# If you have more than two classes and are using softmax activation, use:\n",
    "y_pred_classes = np.argmax(y_pred, axis=1)\n",
    "\n",
    "# Convert probabilities to binary predictions for a binary classification problem\n",
    "y_pred_classes = np.round(y_pred)"
   ]
  },
  {
   "cell_type": "code",
   "execution_count": 84,
   "id": "3dfc75c6",
   "metadata": {},
   "outputs": [
    {
     "data": {
      "text/plain": [
       "array([[0., 0., 0., ..., 0., 0., 0.],\n",
       "       [0., 0., 0., ..., 0., 0., 0.],\n",
       "       [0., 0., 0., ..., 0., 0., 0.],\n",
       "       ...,\n",
       "       [0., 0., 0., ..., 0., 0., 0.],\n",
       "       [0., 0., 0., ..., 0., 0., 0.],\n",
       "       [0., 0., 0., ..., 0., 0., 0.]], dtype=float32)"
      ]
     },
     "execution_count": 84,
     "metadata": {},
     "output_type": "execute_result"
    }
   ],
   "source": [
    "y_pred_classes"
   ]
  },
  {
   "cell_type": "code",
   "execution_count": 94,
   "id": "484170ec",
   "metadata": {},
   "outputs": [],
   "source": [
    "model.save(\"waste_model_binary.h5\")"
   ]
  },
  {
   "cell_type": "code",
   "execution_count": 85,
   "id": "192086e5",
   "metadata": {},
   "outputs": [
    {
     "name": "stdout",
     "output_type": "stream",
     "text": [
      "1/1 [==============================] - 0s 300ms/step\n",
      "Predicted Class: paper\n"
     ]
    }
   ],
   "source": [
    "import cv2\n",
    "import numpy as np\n",
    "import tensorflow as tf\n",
    "\n",
    "# Load your pre-trained model\n",
    "#model = tf.keras.models.load_model(r\"D:\\waste_model.h5\")\n",
    "\n",
    "# Function to preprocess the image\n",
    "def preprocess_image(image_path):\n",
    "    img = cv2.imread(image_path)\n",
    "    img = cv2.resize(img, (image_width, image_height))\n",
    "    img = img / 255.0  # Normalize pixel values to [0, 1]\n",
    "    img = np.expand_dims(img, axis=0)  # Add batch dimension\n",
    "    return img\n",
    "\n",
    "# Define the size of images expected by your model\n",
    "image_width = 64\n",
    "image_height = 64\n",
    "\n",
    "# Function to make predictions\n",
    "def predict(image_path):\n",
    "    # Preprocess the image\n",
    "    img = preprocess_image(image_path)\n",
    "    # Make prediction\n",
    "    prediction = model.predict(img)\n",
    "    return prediction\n",
    "\n",
    "# Path to your image\n",
    "image_path = r\"C:\\Users\\Nidhi\\Downloads\\segregated-garbage-glass-metal-paper-and-plastic-fj4t1c.jpg\"\n",
    "\n",
    "# Make prediction\n",
    "prediction = predict(image_path)\n",
    "\n",
    "# Assuming your model predicts classes and you have a list of class labels\n",
    "\n",
    "class_labels = ['battery',\n",
    " 'biological',\n",
    " 'brown-glass',\n",
    " 'cardboard',\n",
    " 'clothes',\n",
    " 'green-glass',\n",
    " 'metal',\n",
    " 'paper',\n",
    " 'plastic',\n",
    " 'shoes',\n",
    " 'trash',\n",
    " 'white-glass']\n",
    "# Get the index of the predicted class with highest probability\n",
    "predicted_class_index = np.argmax(prediction)\n",
    "predicted_class_label = class_labels[predicted_class_index]\n",
    "\n",
    "print(\"Predicted Class:\", predicted_class_label)\n",
    "#print(\"Prediction Probabilities:\", y_pred_classes)\n"
   ]
  },
  {
   "cell_type": "code",
   "execution_count": 92,
   "id": "9b4947c9",
   "metadata": {},
   "outputs": [],
   "source": [
    "threshold = 0.05  # Adjust as needed\n",
    "predicted_classes = (prediction > threshold).astype(int)\n"
   ]
  },
  {
   "cell_type": "code",
   "execution_count": 93,
   "id": "4840f63a",
   "metadata": {},
   "outputs": [
    {
     "name": "stdout",
     "output_type": "stream",
     "text": [
      "Predicted Class: metal\n",
      "Predicted Class: paper\n",
      "Predicted Class: plastic\n",
      "Predicted Class: white-glass\n"
     ]
    }
   ],
   "source": [
    "for i, class_label in enumerate(class_labels):\n",
    "    if predicted_classes[0, i] == 1:\n",
    "        print(\"Predicted Class:\", class_label)"
   ]
  },
  {
   "cell_type": "code",
   "execution_count": null,
   "id": "f8f747cb",
   "metadata": {},
   "outputs": [],
   "source": []
  }
 ],
 "metadata": {
  "kernelspec": {
   "display_name": "Python 3 (ipykernel)",
   "language": "python",
   "name": "python3"
  },
  "language_info": {
   "codemirror_mode": {
    "name": "ipython",
    "version": 3
   },
   "file_extension": ".py",
   "mimetype": "text/x-python",
   "name": "python",
   "nbconvert_exporter": "python",
   "pygments_lexer": "ipython3",
   "version": "3.10.13"
  }
 },
 "nbformat": 4,
 "nbformat_minor": 5
}
